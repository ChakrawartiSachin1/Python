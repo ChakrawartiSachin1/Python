{
 "cells": [
  {
   "cell_type": "markdown",
   "metadata": {},
   "source": [
    "A construtor is a `special method` used for initializing newly created objects.it is called automatically when an object of the class is created. the constructor method in python is named `__init__`"
   ]
  },
  {
   "cell_type": "markdown",
   "metadata": {},
   "source": [
    "`Purpose`\n",
    "\n",
    "+ Constructors are used to initialize the state of objects.\n",
    "\n",
    "+ They allow you to set intial values for object attributes when the object is created."
   ]
  },
  {
   "cell_type": "markdown",
   "metadata": {},
   "source": [
    "`Syntax`\n",
    "\n",
    "+ The constructor method is named `__init__`.\n",
    "\n",
    "+ it takes `self` as the first parameter, followed by any other parameters you want to intialize the object with.\n",
    "\n",
    "+ inside the constructor, you typically set object attributes using `self.attribute = value`."
   ]
  },
  {
   "cell_type": "markdown",
   "metadata": {},
   "source": [
    "`Example`"
   ]
  },
  {
   "cell_type": "code",
   "execution_count": 1,
   "metadata": {},
   "outputs": [],
   "source": [
    "class Person:\n",
    "    def __init__(self, name, age):\n",
    "        self.name = name\n",
    "        self.age = age"
   ]
  },
  {
   "cell_type": "markdown",
   "metadata": {},
   "source": [
    "`Calling the Constructor`\n",
    "\n",
    "+ When you create an object of the class, the constructor is automatically called.\n",
    "\n",
    "+ You pass arguments to the constructor to initialize the object's attributes."
   ]
  },
  {
   "cell_type": "code",
   "execution_count": 2,
   "metadata": {},
   "outputs": [],
   "source": [
    "Person1 = Person(\"Alice\" , 30)"
   ]
  },
  {
   "cell_type": "markdown",
   "metadata": {},
   "source": [
    "`Constructor Parameters`\n",
    "\n",
    "+ The parameters of the constructor represent the initial state of the object.\n",
    "\n",
    "+ You can specify any number of parameters in the constructor, depending on the attributes you want to initialize."
   ]
  },
  {
   "cell_type": "code",
   "execution_count": 3,
   "metadata": {},
   "outputs": [],
   "source": [
    "class Car:\n",
    "    def __init__(self, make , model, year):\n",
    "        self.make = make\n",
    "        self.model = model\n",
    "        self.year = year"
   ]
  },
  {
   "cell_type": "markdown",
   "metadata": {},
   "source": [
    "`Default Constructor:`\n",
    "\n",
    "+ If you don't define a constructor in a class, Python provides a default constructor that doesn't do anything.\n",
    "\n",
    "+ It's usually sufficient for simple classes, but if you need to initialize attributes, you should define your own constructor."
   ]
  },
  {
   "cell_type": "code",
   "execution_count": 7,
   "metadata": {},
   "outputs": [
    {
     "name": "stdout",
     "output_type": "stream",
     "text": [
      "Love Shraddhu ji\n",
      "Love Priyal ji\n"
     ]
    }
   ],
   "source": [
    "class Love:\n",
    "    def __init__(self, name, year):\n",
    "        self.name = name\n",
    "        self.year = year\n",
    "\n",
    "Love1 = Love(\"Shraddhu ji\" , 37)\n",
    "Love2 = Love(\"Priyal ji\", 23)\n",
    "\n",
    "print(\"Love\", Love1.name)\n",
    "print(\"Love\", Love2.name)"
   ]
  }
 ],
 "metadata": {
  "kernelspec": {
   "display_name": "Python 3",
   "language": "python",
   "name": "python3"
  },
  "language_info": {
   "codemirror_mode": {
    "name": "ipython",
    "version": 3
   },
   "file_extension": ".py",
   "mimetype": "text/x-python",
   "name": "python",
   "nbconvert_exporter": "python",
   "pygments_lexer": "ipython3",
   "version": "3.12.2"
  }
 },
 "nbformat": 4,
 "nbformat_minor": 2
}
