{
 "cells": [
  {
   "cell_type": "markdown",
   "metadata": {},
   "source": [
    "#  `Encapsulation`"
   ]
  },
  {
   "cell_type": "markdown",
   "metadata": {},
   "source": [
    "Encapasulation in Python is the concept of bundling the data (attributes) and methods (functions) that operate on the data into a single unit called a class. it restricts access to the internal state of objets and only exposes the necessary functionality through methods. Encapsulation helps in hiding the internal implementation details of a class and prevents external code from directly accessing or modifying the object's data. "
   ]
  },
  {
   "cell_type": "markdown",
   "metadata": {},
   "source": [
    "`Access Modifiers`\n",
    "\n",
    "+ Python does not have built-in access modifiers like `private` , `protected` or `public` as in some other programming languages.\n",
    "\n",
    "+ However, Python uses naming conventions to indicate the intended usage of attributes and methods.\n",
    "\n",
    "+ Attributes or methods prefixed with a single underscore `-` are conventionally considered as `Protected`, indicating that they should not be accessed directly from outside the class, but it's still possible.\n",
    "\n",
    "+ Attributes or methods prefixed with double underscores `--` are `Private` and are subject to name manging , making them harder to access from outside the class."
   ]
  },
  {
   "cell_type": "markdown",
   "metadata": {},
   "source": [
    "`Getter and Setter Methods`\n",
    "\n",
    "+ To provide controlled access to attributes, `getter` and `setter` methods are used to modify the value of an attribute.\n",
    "\n",
    "+ This allows for validation and error checking before setting or retrieving values."
   ]
  },
  {
   "cell_type": "code",
   "execution_count": 2,
   "metadata": {},
   "outputs": [
    {
     "name": "stdout",
     "output_type": "stream",
     "text": [
      "Toyota\n",
      "Camry\n"
     ]
    }
   ],
   "source": [
    "class Car:\n",
    "    def __init__(self, make, model):\n",
    "        # Initialize the Car object with make and model attributes\n",
    "        self._make = make  # Attribute _make is prefixed with _ to indicate it's protected\n",
    "        self._model = model  # Attribute _model is prefixed with _ to indicate it's protected\n",
    "\n",
    "    # Getter method for retrieving the make attribute\n",
    "    def get_make(self):\n",
    "        return self._make\n",
    "\n",
    "    # Getter method for retrieving the model attribute\n",
    "    def get_model(self):\n",
    "        return self._model\n",
    "\n",
    "    # Setter method for setting the model attribute\n",
    "    def set_model(self, new_model):\n",
    "        # Check if the new_model parameter is a string\n",
    "        if isinstance(new_model, str):\n",
    "            self._model = new_model  # Set the _model attribute to the new_model value\n",
    "        else:\n",
    "            print(\"Invalid model type\")  # Print an error message if the new_model is not a string\n",
    "\n",
    "\n",
    "# Create an instance of the Car class\n",
    "car = Car(\"Toyota\", \"Camry\")\n",
    "\n",
    "# Get the make attribute using the getter method\n",
    "print(car.get_make())  # Output: Toyota\n",
    "\n",
    "# Get the model attribute using the getter method\n",
    "print(car.get_model())  # Output: Camry\n",
    "\n",
    "# Set the model attribute using the setter method\n",
    "car.set_model(\"Corolla\")\n",
    "\n",
    "# Get the updated model attribute using the getter\n"
   ]
  },
  {
   "cell_type": "markdown",
   "metadata": {},
   "source": [
    "`Property Decorators`\n",
    "\n",
    "Property decorators in python are a way to define `special methods` that allow you to control the behavior of attribute access and modification. They provide a more elegant and Pythonic way to implement `getter` `setter` and `deleter` methods for class attributes. Property decorators are used to define properties which are attributes that have `getter` `setter` and `deleter` methods associated with them."
   ]
  },
  {
   "cell_type": "markdown",
   "metadata": {},
   "source": [
    "There are three main property decorators in python:\n",
    "\n",
    "+ `@property` : This decorator is used to define a getter method for a property. it allows you to access the property as if it were an attributes, without needing to call a method explicitly.\n",
    "\n",
    "+ `@<attribute_name>.setter` : This decorator is used to define a setter method for a property. It allows you to set the value of the property using assignment syntax `=`.\n",
    "\n",
    "+ `@<attribute_name>.deleter` : This decorator is used to define a deleter method for a property. It allows you to delete the property using the `del` keyword.\n"
   ]
  }
 ],
 "metadata": {
  "kernelspec": {
   "display_name": "Python 3",
   "language": "python",
   "name": "python3"
  },
  "language_info": {
   "codemirror_mode": {
    "name": "ipython",
    "version": 3
   },
   "file_extension": ".py",
   "mimetype": "text/x-python",
   "name": "python",
   "nbconvert_exporter": "python",
   "pygments_lexer": "ipython3",
   "version": "3.12.2"
  }
 },
 "nbformat": 4,
 "nbformat_minor": 2
}
