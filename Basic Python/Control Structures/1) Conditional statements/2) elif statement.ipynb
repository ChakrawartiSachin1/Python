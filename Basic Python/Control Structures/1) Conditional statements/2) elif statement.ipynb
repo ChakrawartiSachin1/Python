{
 "cells": [
  {
   "cell_type": "markdown",
   "metadata": {},
   "source": [
    "# `elif statement:`"
   ]
  },
  {
   "cell_type": "markdown",
   "metadata": {},
   "source": [
    "<div class=\"alert alert-block alert-danger\">\n",
    "The <b> elif </b> statement in Python stands for <b>else if</b> and is used to check additional conditions if the proceding <b>if</b> statement(s) evaluate to <b>False</b>. it allows to create a chain of conditions to be evaluated sequentially.\n",
    "</div>"
   ]
  },
  {
   "cell_type": "markdown",
   "metadata": {},
   "source": [
    "+ `Purpose`"
   ]
  },
  {
   "cell_type": "markdown",
   "metadata": {},
   "source": [
    "The `elif` statement allows you to check additional conditional if the preceding  `if` statement(s) evaluate to `False`."
   ]
  },
  {
   "cell_type": "markdown",
   "metadata": {},
   "source": [
    "+ `Syntax`"
   ]
  },
  {
   "cell_type": "markdown",
   "metadata": {
    "vscode": {
     "languageId": "raw"
    }
   },
   "source": [
    "+ if condition1:\n",
    "\n",
    "    - Code block to execute if condition1 is True\n",
    "\n",
    "+ elif condition2:\n",
    "\n",
    "    - Code block to execute if condition2 is True and condition1 is False\n",
    "\n",
    "+ elif condition3:\n",
    "\n",
    "    - Code block to execute if condition3 is True and condition1 and condition2 are False\n",
    "...\n",
    "+ else:\n",
    "\n",
    "    - Code block to execute if all conditions are False\n"
   ]
  },
  {
   "cell_type": "markdown",
   "metadata": {},
   "source": [
    "+ `Flow`"
   ]
  },
  {
   "cell_type": "markdown",
   "metadata": {},
   "source": [
    "+ The `if` statement evaluates `condition1`. if it is `True` , the corresponding code block is executed, and the `elif` block is skipped.\n",
    "\n",
    "+ If condition1 is `False`, the `elif` statement evaluates `condition2`. If it is `True`, the corresponding code block is executed, and subsequent `elif `blocks are skipped.\n",
    "\n",
    "+ This process continues until a `True` condition is found or until the `else`block (if present) is reached."
   ]
  },
  {
   "cell_type": "markdown",
   "metadata": {},
   "source": [
    "+ Example"
   ]
  },
  {
   "cell_type": "code",
   "execution_count": 2,
   "metadata": {},
   "outputs": [
    {
     "name": "stdout",
     "output_type": "stream",
     "text": [
      "The number is positive\n"
     ]
    }
   ],
   "source": [
    "num = 10\n",
    "\n",
    "if num > 0:\n",
    "    print(\"The number is positive\")\n",
    "elif num == 0:\n",
    "    print(\"The number is zero\")\n",
    "else:\n",
    "    print(\"The number is negative\")"
   ]
  },
  {
   "cell_type": "markdown",
   "metadata": {},
   "source": [
    "+ in this example:\n",
    "\n",
    "   - if `num` is greater then 0, it prints \"The number is positive\".\n",
    "\n",
    "   - if `num` is equal to 0, it prints \"The number is zero\".\n",
    "\n",
    "   - if both conditions are `False` (i.e. `num` is negative), it prints \"The number is negative\".\n",
    "\n",
    "\n",
    "+ Notes:\n",
    "\n",
    "   - You can have multiple `elif` blocks to check for additional conditions.\n",
    "\n",
    "   - The `elif` and else blocks are optional. You can have only `if` and `elif` blocks if needed.\n",
    "\n",
    "The `elif` statement is useful when you need to evaluate multiple conditions sequentially and execute different code blocks based on the first condition that evaluates to `True`.\n",
    "\n"
   ]
  }
 ],
 "metadata": {
  "kernelspec": {
   "display_name": "Python 3",
   "language": "python",
   "name": "python3"
  },
  "language_info": {
   "codemirror_mode": {
    "name": "ipython",
    "version": 3
   },
   "file_extension": ".py",
   "mimetype": "text/x-python",
   "name": "python",
   "nbconvert_exporter": "python",
   "pygments_lexer": "ipython3",
   "version": "3.12.2"
  }
 },
 "nbformat": 4,
 "nbformat_minor": 2
}
