{
 "cells": [
  {
   "cell_type": "markdown",
   "metadata": {},
   "source": [
    "<span style=\"color:red; font-size: 30px;\"><b>DataFrame : </b></span> A two-dimensional labeled data structure with columns of potentially different types. It is the primary data structure in Pandas."
   ]
  },
  {
   "cell_type": "markdown",
   "metadata": {},
   "source": [
    "<span style=\"Color:#55FF33; font-size: 25px;\"> Key features of a DataFrame include: </span>\n",
    "\n",
    "1. **Indexing**: Rows and columns of a DataFrame are both labeled, allowing for easy access to data using row and column labels.\n",
    "\n",
    "2. **Flexible Data Types**: Each column of a DataFrame can have a different data type, allowing for heterogeneous data.\n",
    "\n",
    "3. **Alignment**: Operations between two DataFrames align on both row and column labels, making it easy to perform element-wise operations.\n",
    "\n",
    "4. **Missing Data Handling**: DataFrames provide methods for handling missing values, such as dropping or filling missing values.\n",
    "\n",
    "5. **Data Manipulation**: DataFrame provides a wide range of functions for data manipulation, including indexing, slicing, filtering, grouping, merging, reshaping, and more.\n",
    "\n",
    "6. **Data Input/Output**: DataFrames can be created from various data sources such as CSV files, Excel files, SQL databases, and more. Similarly, DataFrames can be written back to these formats.\n",
    "\n",
    "7. **Integration**: DataFrames integrate well with other Python libraries such as NumPy, matplotlib, scikit-learn, and more, making it a powerful tool for data analysis and machine learning workflows.\n",
    "\n",
    "Overall, DataFrames in pandas provide a convenient and efficient way to work with structured data, enabling users to perform complex data manipulations and analysis tasks with ease."
   ]
  },
  {
   "cell_type": "code",
   "execution_count": 1,
   "metadata": {},
   "outputs": [
    {
     "name": "stdout",
     "output_type": "stream",
     "text": [
      "    Name  Age      City\n",
      "0   John   28  New York\n",
      "1   Anna   35     Paris\n",
      "2  Peter   45    London\n",
      "3  Linda   30    Sydney\n"
     ]
    }
   ],
   "source": [
    "import pandas as pd\n",
    "\n",
    "# Creating a DataFrame from a dictionary\n",
    "data = {\n",
    "    'Name': ['John', 'Anna', 'Peter', 'Linda'],\n",
    "    'Age': [28, 35, 45, 30],\n",
    "    'City': ['New York', 'Paris', 'London', 'Sydney']\n",
    "}\n",
    "\n",
    "df = pd.DataFrame(data)\n",
    "\n",
    "print(df)\n"
   ]
  }
 ],
 "metadata": {
  "kernelspec": {
   "display_name": "Python 3",
   "language": "python",
   "name": "python3"
  },
  "language_info": {
   "codemirror_mode": {
    "name": "ipython",
    "version": 3
   },
   "file_extension": ".py",
   "mimetype": "text/x-python",
   "name": "python",
   "nbconvert_exporter": "python",
   "pygments_lexer": "ipython3",
   "version": "3.10.13"
  }
 },
 "nbformat": 4,
 "nbformat_minor": 2
}
