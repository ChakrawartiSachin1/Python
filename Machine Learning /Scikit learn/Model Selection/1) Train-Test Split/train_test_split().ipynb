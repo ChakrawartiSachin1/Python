{
 "cells": [
  {
   "cell_type": "markdown",
   "metadata": {},
   "source": [
    "# `train_test_split()`"
   ]
  },
  {
   "cell_type": "markdown",
   "metadata": {},
   "source": [
    "The `train_test_split() `function in scikit-learn's `sklearn.model_selection module` is commonly used to split a dataset into training and testing sets. This function is essential for evaluating machine learning models on unseen data and assessing their generalization performance"
   ]
  },
  {
   "cell_type": "markdown",
   "metadata": {},
   "source": [
    "+ Function Signature:\n"
   ]
  },
  {
   "cell_type": "markdown",
   "metadata": {},
   "source": [
    "train_test_split(*arrays, test_size=None, train_size=None, random_state=None, shuffle=True, stratify=None)\n"
   ]
  },
  {
   "cell_type": "markdown",
   "metadata": {},
   "source": [
    "+ Parameters:\n"
   ]
  },
  {
   "cell_type": "markdown",
   "metadata": {},
   "source": [
    "+ `*arrays:` The input data to be split. This can be one or more arrays or matrices.\n",
    "\n",
    "+ `test_size:` The proportion of the dataset to include in the test split. If not specified, the default value is 0.25.\n",
    "\n",
    "+ `train_size:` The proportion of the dataset to include in the train split. If specified, test_size is ignored.\n",
    "\n",
    "+ `random_state:` Controls the random seed for shuffling the data before splitting. This ensures reproducibility of the splits.\n",
    "\n",
    "+ `shuffle:` Whether to shuffle the data before splitting. Default is True.\n",
    "\n",
    "+ `stratify:` If not None, the data is split in a stratified fashion, preserving the proportion of samples in each class."
   ]
  },
  {
   "cell_type": "markdown",
   "metadata": {},
   "source": [
    "+ Returns:"
   ]
  },
  {
   "cell_type": "markdown",
   "metadata": {},
   "source": [
    "A tuple containing the split datasets (X_train, X_test, y_train, y_test) or a list of arrays if more than one input array is provided."
   ]
  },
  {
   "cell_type": "markdown",
   "metadata": {},
   "source": [
    "# EX1"
   ]
  },
  {
   "cell_type": "code",
   "execution_count": 1,
   "metadata": {},
   "outputs": [
    {
     "name": "stdout",
     "output_type": "stream",
     "text": [
      "Shape of X_train: (120, 4)\n",
      "Shape of X_test: (30, 4)\n",
      "Shape of y_train: (120,)\n",
      "Shape of y_test: (30,)\n"
     ]
    }
   ],
   "source": [
    "from sklearn.model_selection import train_test_split\n",
    "from sklearn.datasets import load_iris\n",
    "\n",
    "# Load dataset\n",
    "iris = load_iris()\n",
    "X, y = iris.data, iris.target\n",
    "\n",
    "# Split the dataset into train and test sets\n",
    "X_train, X_test, y_train, y_test = train_test_split(X, y, test_size=0.2, random_state=42)\n",
    "\n",
    "# Print the shapes of the resulting datasets\n",
    "print(\"Shape of X_train:\", X_train.shape)\n",
    "print(\"Shape of X_test:\", X_test.shape)\n",
    "print(\"Shape of y_train:\", y_train.shape)\n",
    "print(\"Shape of y_test:\", y_test.shape)\n"
   ]
  },
  {
   "cell_type": "markdown",
   "metadata": {},
   "source": [
    "# EX2"
   ]
  },
  {
   "cell_type": "code",
   "execution_count": 2,
   "metadata": {},
   "outputs": [],
   "source": [
    "\n",
    "import pandas as pd\n",
    "from sklearn.model_selection import train_test_split\n",
    "from sklearn.linear_model import LinearRegression\n",
    "from sklearn.metrics import mean_squared_error"
   ]
  },
  {
   "cell_type": "code",
   "execution_count": 3,
   "metadata": {},
   "outputs": [],
   "source": [
    "df = pd.read_csv('RELIANCE.csv')"
   ]
  },
  {
   "cell_type": "code",
   "execution_count": 4,
   "metadata": {},
   "outputs": [
    {
     "data": {
      "text/html": [
       "<div>\n",
       "<style scoped>\n",
       "    .dataframe tbody tr th:only-of-type {\n",
       "        vertical-align: middle;\n",
       "    }\n",
       "\n",
       "    .dataframe tbody tr th {\n",
       "        vertical-align: top;\n",
       "    }\n",
       "\n",
       "    .dataframe thead th {\n",
       "        text-align: right;\n",
       "    }\n",
       "</style>\n",
       "<table border=\"1\" class=\"dataframe\">\n",
       "  <thead>\n",
       "    <tr style=\"text-align: right;\">\n",
       "      <th></th>\n",
       "      <th>Date</th>\n",
       "      <th>series</th>\n",
       "      <th>OPEN</th>\n",
       "      <th>HIGH</th>\n",
       "      <th>LOW</th>\n",
       "      <th>PREV. CLOSE</th>\n",
       "      <th>ltp</th>\n",
       "      <th>close</th>\n",
       "      <th>vwap</th>\n",
       "      <th>52W H</th>\n",
       "      <th>52W L</th>\n",
       "      <th>VOLUME</th>\n",
       "      <th>VALUE</th>\n",
       "      <th>No of trades</th>\n",
       "    </tr>\n",
       "  </thead>\n",
       "  <tbody>\n",
       "    <tr>\n",
       "      <th>0</th>\n",
       "      <td>27-Mar-2024</td>\n",
       "      <td>EQ</td>\n",
       "      <td>2,896.00</td>\n",
       "      <td>3,000.00</td>\n",
       "      <td>2,894.00</td>\n",
       "      <td>2,883.15</td>\n",
       "      <td>2,983.75</td>\n",
       "      <td>2,985.70</td>\n",
       "      <td>2,972.19</td>\n",
       "      <td>3,024.90</td>\n",
       "      <td>2,220.30</td>\n",
       "      <td>81,63,322</td>\n",
       "      <td>24,26,29,83,466.45</td>\n",
       "      <td>2,99,800</td>\n",
       "    </tr>\n",
       "    <tr>\n",
       "      <th>1</th>\n",
       "      <td>26-Mar-2024</td>\n",
       "      <td>EQ</td>\n",
       "      <td>2,890.00</td>\n",
       "      <td>2,904.80</td>\n",
       "      <td>2,878.00</td>\n",
       "      <td>2,910.05</td>\n",
       "      <td>2,886.70</td>\n",
       "      <td>2,883.15</td>\n",
       "      <td>2,887.28</td>\n",
       "      <td>3,024.90</td>\n",
       "      <td>2,220.30</td>\n",
       "      <td>57,07,953</td>\n",
       "      <td>16,48,04,30,505.15</td>\n",
       "      <td>1,74,805</td>\n",
       "    </tr>\n",
       "    <tr>\n",
       "      <th>2</th>\n",
       "      <td>22-Mar-2024</td>\n",
       "      <td>EQ</td>\n",
       "      <td>2,899.95</td>\n",
       "      <td>2,920.00</td>\n",
       "      <td>2,894.70</td>\n",
       "      <td>2,901.95</td>\n",
       "      <td>2,906.55</td>\n",
       "      <td>2,910.05</td>\n",
       "      <td>2,909.59</td>\n",
       "      <td>3,024.90</td>\n",
       "      <td>2,220.30</td>\n",
       "      <td>97,63,804</td>\n",
       "      <td>28,40,86,77,998.20</td>\n",
       "      <td>2,86,746</td>\n",
       "    </tr>\n",
       "    <tr>\n",
       "      <th>3</th>\n",
       "      <td>21-Mar-2024</td>\n",
       "      <td>EQ</td>\n",
       "      <td>2,905.05</td>\n",
       "      <td>2,915.80</td>\n",
       "      <td>2,889.35</td>\n",
       "      <td>2,887.50</td>\n",
       "      <td>2,900.05</td>\n",
       "      <td>2,901.95</td>\n",
       "      <td>2,903.52</td>\n",
       "      <td>3,024.90</td>\n",
       "      <td>2,220.30</td>\n",
       "      <td>65,03,468</td>\n",
       "      <td>18,88,29,74,161.40</td>\n",
       "      <td>2,44,846</td>\n",
       "    </tr>\n",
       "    <tr>\n",
       "      <th>4</th>\n",
       "      <td>20-Mar-2024</td>\n",
       "      <td>EQ</td>\n",
       "      <td>2,855.90</td>\n",
       "      <td>2,890.00</td>\n",
       "      <td>2,848.05</td>\n",
       "      <td>2,850.50</td>\n",
       "      <td>2,886.25</td>\n",
       "      <td>2,887.50</td>\n",
       "      <td>2,874.53</td>\n",
       "      <td>3,024.90</td>\n",
       "      <td>2,220.30</td>\n",
       "      <td>42,44,403</td>\n",
       "      <td>12,20,06,51,007.80</td>\n",
       "      <td>2,08,132</td>\n",
       "    </tr>\n",
       "  </tbody>\n",
       "</table>\n",
       "</div>"
      ],
      "text/plain": [
       "         Date  series      OPEN      HIGH       LOW  PREV. CLOSE       ltp   \\\n",
       "0  27-Mar-2024      EQ  2,896.00  3,000.00  2,894.00     2,883.15  2,983.75   \n",
       "1  26-Mar-2024      EQ  2,890.00  2,904.80  2,878.00     2,910.05  2,886.70   \n",
       "2  22-Mar-2024      EQ  2,899.95  2,920.00  2,894.70     2,901.95  2,906.55   \n",
       "3  21-Mar-2024      EQ  2,905.05  2,915.80  2,889.35     2,887.50  2,900.05   \n",
       "4  20-Mar-2024      EQ  2,855.90  2,890.00  2,848.05     2,850.50  2,886.25   \n",
       "\n",
       "     close      vwap     52W H     52W L     VOLUME               VALUE   \\\n",
       "0  2,985.70  2,972.19  3,024.90  2,220.30  81,63,322  24,26,29,83,466.45   \n",
       "1  2,883.15  2,887.28  3,024.90  2,220.30  57,07,953  16,48,04,30,505.15   \n",
       "2  2,910.05  2,909.59  3,024.90  2,220.30  97,63,804  28,40,86,77,998.20   \n",
       "3  2,901.95  2,903.52  3,024.90  2,220.30  65,03,468  18,88,29,74,161.40   \n",
       "4  2,887.50  2,874.53  3,024.90  2,220.30  42,44,403  12,20,06,51,007.80   \n",
       "\n",
       "  No of trades   \n",
       "0      2,99,800  \n",
       "1      1,74,805  \n",
       "2      2,86,746  \n",
       "3      2,44,846  \n",
       "4      2,08,132  "
      ]
     },
     "execution_count": 4,
     "metadata": {},
     "output_type": "execute_result"
    }
   ],
   "source": [
    "df.head()"
   ]
  },
  {
   "cell_type": "code",
   "execution_count": 5,
   "metadata": {},
   "outputs": [
    {
     "data": {
      "text/plain": [
       "Index(['Date ', 'series ', 'OPEN ', 'HIGH ', 'LOW ', 'PREV. CLOSE ', 'ltp ',\n",
       "       'close ', 'vwap ', '52W H ', '52W L ', 'VOLUME ', 'VALUE ',\n",
       "       'No of trades '],\n",
       "      dtype='object')"
      ]
     },
     "execution_count": 5,
     "metadata": {},
     "output_type": "execute_result"
    }
   ],
   "source": [
    "df.columns"
   ]
  },
  {
   "cell_type": "code",
   "execution_count": 6,
   "metadata": {},
   "outputs": [],
   "source": [
    "df.columns = df.columns.str.strip()\n"
   ]
  },
  {
   "cell_type": "code",
   "execution_count": 7,
   "metadata": {},
   "outputs": [
    {
     "data": {
      "text/plain": [
       "Index(['Date', 'series', 'OPEN', 'HIGH', 'LOW', 'PREV. CLOSE', 'ltp', 'close',\n",
       "       'vwap', '52W H', '52W L', 'VOLUME', 'VALUE', 'No of trades'],\n",
       "      dtype='object')"
      ]
     },
     "execution_count": 7,
     "metadata": {},
     "output_type": "execute_result"
    }
   ],
   "source": [
    "df.columns"
   ]
  },
  {
   "cell_type": "code",
   "execution_count": 8,
   "metadata": {},
   "outputs": [],
   "source": [
    "df.drop(columns=['vwap'], inplace=True)"
   ]
  },
  {
   "cell_type": "code",
   "execution_count": 9,
   "metadata": {},
   "outputs": [
    {
     "data": {
      "text/plain": [
       "Index(['Date', 'series', 'OPEN', 'HIGH', 'LOW', 'PREV. CLOSE', 'ltp', 'close',\n",
       "       '52W H', '52W L', 'VOLUME', 'VALUE', 'No of trades'],\n",
       "      dtype='object')"
      ]
     },
     "execution_count": 9,
     "metadata": {},
     "output_type": "execute_result"
    }
   ],
   "source": [
    "df.columns"
   ]
  },
  {
   "cell_type": "code",
   "execution_count": 10,
   "metadata": {},
   "outputs": [
    {
     "data": {
      "text/html": [
       "<div>\n",
       "<style scoped>\n",
       "    .dataframe tbody tr th:only-of-type {\n",
       "        vertical-align: middle;\n",
       "    }\n",
       "\n",
       "    .dataframe tbody tr th {\n",
       "        vertical-align: top;\n",
       "    }\n",
       "\n",
       "    .dataframe thead th {\n",
       "        text-align: right;\n",
       "    }\n",
       "</style>\n",
       "<table border=\"1\" class=\"dataframe\">\n",
       "  <thead>\n",
       "    <tr style=\"text-align: right;\">\n",
       "      <th></th>\n",
       "      <th>Date</th>\n",
       "      <th>series</th>\n",
       "      <th>OPEN</th>\n",
       "      <th>HIGH</th>\n",
       "      <th>LOW</th>\n",
       "      <th>PREV. CLOSE</th>\n",
       "      <th>ltp</th>\n",
       "      <th>close</th>\n",
       "      <th>52W H</th>\n",
       "      <th>52W L</th>\n",
       "      <th>VOLUME</th>\n",
       "      <th>VALUE</th>\n",
       "      <th>No of trades</th>\n",
       "    </tr>\n",
       "  </thead>\n",
       "  <tbody>\n",
       "    <tr>\n",
       "      <th>0</th>\n",
       "      <td>27-Mar-2024</td>\n",
       "      <td>EQ</td>\n",
       "      <td>2,896.00</td>\n",
       "      <td>3,000.00</td>\n",
       "      <td>2,894.00</td>\n",
       "      <td>2,883.15</td>\n",
       "      <td>2,983.75</td>\n",
       "      <td>2,985.70</td>\n",
       "      <td>3,024.90</td>\n",
       "      <td>2,220.30</td>\n",
       "      <td>81,63,322</td>\n",
       "      <td>24,26,29,83,466.45</td>\n",
       "      <td>2,99,800</td>\n",
       "    </tr>\n",
       "    <tr>\n",
       "      <th>1</th>\n",
       "      <td>26-Mar-2024</td>\n",
       "      <td>EQ</td>\n",
       "      <td>2,890.00</td>\n",
       "      <td>2,904.80</td>\n",
       "      <td>2,878.00</td>\n",
       "      <td>2,910.05</td>\n",
       "      <td>2,886.70</td>\n",
       "      <td>2,883.15</td>\n",
       "      <td>3,024.90</td>\n",
       "      <td>2,220.30</td>\n",
       "      <td>57,07,953</td>\n",
       "      <td>16,48,04,30,505.15</td>\n",
       "      <td>1,74,805</td>\n",
       "    </tr>\n",
       "    <tr>\n",
       "      <th>2</th>\n",
       "      <td>22-Mar-2024</td>\n",
       "      <td>EQ</td>\n",
       "      <td>2,899.95</td>\n",
       "      <td>2,920.00</td>\n",
       "      <td>2,894.70</td>\n",
       "      <td>2,901.95</td>\n",
       "      <td>2,906.55</td>\n",
       "      <td>2,910.05</td>\n",
       "      <td>3,024.90</td>\n",
       "      <td>2,220.30</td>\n",
       "      <td>97,63,804</td>\n",
       "      <td>28,40,86,77,998.20</td>\n",
       "      <td>2,86,746</td>\n",
       "    </tr>\n",
       "    <tr>\n",
       "      <th>3</th>\n",
       "      <td>21-Mar-2024</td>\n",
       "      <td>EQ</td>\n",
       "      <td>2,905.05</td>\n",
       "      <td>2,915.80</td>\n",
       "      <td>2,889.35</td>\n",
       "      <td>2,887.50</td>\n",
       "      <td>2,900.05</td>\n",
       "      <td>2,901.95</td>\n",
       "      <td>3,024.90</td>\n",
       "      <td>2,220.30</td>\n",
       "      <td>65,03,468</td>\n",
       "      <td>18,88,29,74,161.40</td>\n",
       "      <td>2,44,846</td>\n",
       "    </tr>\n",
       "    <tr>\n",
       "      <th>4</th>\n",
       "      <td>20-Mar-2024</td>\n",
       "      <td>EQ</td>\n",
       "      <td>2,855.90</td>\n",
       "      <td>2,890.00</td>\n",
       "      <td>2,848.05</td>\n",
       "      <td>2,850.50</td>\n",
       "      <td>2,886.25</td>\n",
       "      <td>2,887.50</td>\n",
       "      <td>3,024.90</td>\n",
       "      <td>2,220.30</td>\n",
       "      <td>42,44,403</td>\n",
       "      <td>12,20,06,51,007.80</td>\n",
       "      <td>2,08,132</td>\n",
       "    </tr>\n",
       "  </tbody>\n",
       "</table>\n",
       "</div>"
      ],
      "text/plain": [
       "          Date series      OPEN      HIGH       LOW PREV. CLOSE       ltp  \\\n",
       "0  27-Mar-2024     EQ  2,896.00  3,000.00  2,894.00    2,883.15  2,983.75   \n",
       "1  26-Mar-2024     EQ  2,890.00  2,904.80  2,878.00    2,910.05  2,886.70   \n",
       "2  22-Mar-2024     EQ  2,899.95  2,920.00  2,894.70    2,901.95  2,906.55   \n",
       "3  21-Mar-2024     EQ  2,905.05  2,915.80  2,889.35    2,887.50  2,900.05   \n",
       "4  20-Mar-2024     EQ  2,855.90  2,890.00  2,848.05    2,850.50  2,886.25   \n",
       "\n",
       "      close     52W H     52W L     VOLUME               VALUE No of trades  \n",
       "0  2,985.70  3,024.90  2,220.30  81,63,322  24,26,29,83,466.45     2,99,800  \n",
       "1  2,883.15  3,024.90  2,220.30  57,07,953  16,48,04,30,505.15     1,74,805  \n",
       "2  2,910.05  3,024.90  2,220.30  97,63,804  28,40,86,77,998.20     2,86,746  \n",
       "3  2,901.95  3,024.90  2,220.30  65,03,468  18,88,29,74,161.40     2,44,846  \n",
       "4  2,887.50  3,024.90  2,220.30  42,44,403  12,20,06,51,007.80     2,08,132  "
      ]
     },
     "execution_count": 10,
     "metadata": {},
     "output_type": "execute_result"
    }
   ],
   "source": [
    "df.head(5)"
   ]
  },
  {
   "cell_type": "code",
   "execution_count": 11,
   "metadata": {},
   "outputs": [
    {
     "name": "stdout",
     "output_type": "stream",
     "text": [
      "            Date series     OPEN     HIGH      LOW PREV. CLOSE      ltp  \\\n",
      "0    27-Mar-2024     EQ  2896.00  3000.00  2894.00     2883.15  2983.75   \n",
      "1    26-Mar-2024     EQ  2890.00  2904.80  2878.00     2910.05  2886.70   \n",
      "2    22-Mar-2024     EQ  2899.95  2920.00  2894.70     2901.95  2906.55   \n",
      "3    21-Mar-2024     EQ  2905.05  2915.80  2889.35     2887.50  2900.05   \n",
      "4    20-Mar-2024     EQ  2855.90  2890.00  2848.05     2850.50  2886.25   \n",
      "..           ...    ...      ...      ...      ...         ...      ...   \n",
      "120  04-Oct-2023     EQ  2309.00  2319.00  2295.10     2318.15  2314.10   \n",
      "121  03-Oct-2023     EQ  2329.95  2335.60  2316.00     2345.00  2318.40   \n",
      "122  29-Sep-2023     EQ  2341.80  2369.10  2334.10     2334.10  2342.05   \n",
      "123  28-Sep-2023     EQ  2383.00  2383.00  2325.00     2368.90  2339.00   \n",
      "124  27-Sep-2023     EQ  2343.50  2371.80  2338.50     2342.50  2371.00   \n",
      "\n",
      "       close    52W H    52W L   VOLUME           VALUE No of trades  \n",
      "0    2985.70  3024.90  2220.30  8163322  24262983466.45       299800  \n",
      "1    2883.15  3024.90  2220.30  5707953  16480430505.15       174805  \n",
      "2    2910.05  3024.90  2220.30  9763804  28408677998.20       286746  \n",
      "3    2901.95  3024.90  2220.30  6503468  18882974161.40       244846  \n",
      "4    2887.50  3024.90  2220.30  4244403  12200651007.80       208132  \n",
      "..       ...      ...      ...      ...             ...          ...  \n",
      "120  2314.15  2630.95  2295.10  5143193  11851141943.50       261511  \n",
      "121  2318.15  2630.95  2316.00  4429528  10285526678.70       192207  \n",
      "122  2345.00  2630.95  2325.00  6171007  14507525911.60       178898  \n",
      "123  2334.10  2630.95  2325.00  7259173  17073806729.35       283992  \n",
      "124  2368.90  2630.95  2335.10  5861389  13807821671.35       233089  \n",
      "\n",
      "[125 rows x 13 columns]\n"
     ]
    }
   ],
   "source": [
    "# Replace commas with empty strings in the entire DataFrame\n",
    "df = df.replace(',', '', regex=True)\n",
    "\n",
    "# Display the DataFrame after removing commas\n",
    "print(df)"
   ]
  },
  {
   "cell_type": "code",
   "execution_count": 12,
   "metadata": {},
   "outputs": [
    {
     "data": {
      "text/html": [
       "<div>\n",
       "<style scoped>\n",
       "    .dataframe tbody tr th:only-of-type {\n",
       "        vertical-align: middle;\n",
       "    }\n",
       "\n",
       "    .dataframe tbody tr th {\n",
       "        vertical-align: top;\n",
       "    }\n",
       "\n",
       "    .dataframe thead th {\n",
       "        text-align: right;\n",
       "    }\n",
       "</style>\n",
       "<table border=\"1\" class=\"dataframe\">\n",
       "  <thead>\n",
       "    <tr style=\"text-align: right;\">\n",
       "      <th></th>\n",
       "      <th>Date</th>\n",
       "      <th>series</th>\n",
       "      <th>OPEN</th>\n",
       "      <th>HIGH</th>\n",
       "      <th>LOW</th>\n",
       "      <th>PREV. CLOSE</th>\n",
       "      <th>ltp</th>\n",
       "      <th>close</th>\n",
       "      <th>52W H</th>\n",
       "      <th>52W L</th>\n",
       "      <th>VOLUME</th>\n",
       "      <th>VALUE</th>\n",
       "      <th>No of trades</th>\n",
       "    </tr>\n",
       "  </thead>\n",
       "  <tbody>\n",
       "    <tr>\n",
       "      <th>0</th>\n",
       "      <td>27-Mar-2024</td>\n",
       "      <td>EQ</td>\n",
       "      <td>2896.00</td>\n",
       "      <td>3000.00</td>\n",
       "      <td>2894.00</td>\n",
       "      <td>2883.15</td>\n",
       "      <td>2983.75</td>\n",
       "      <td>2985.70</td>\n",
       "      <td>3024.90</td>\n",
       "      <td>2220.30</td>\n",
       "      <td>8163322</td>\n",
       "      <td>24262983466.45</td>\n",
       "      <td>299800</td>\n",
       "    </tr>\n",
       "    <tr>\n",
       "      <th>1</th>\n",
       "      <td>26-Mar-2024</td>\n",
       "      <td>EQ</td>\n",
       "      <td>2890.00</td>\n",
       "      <td>2904.80</td>\n",
       "      <td>2878.00</td>\n",
       "      <td>2910.05</td>\n",
       "      <td>2886.70</td>\n",
       "      <td>2883.15</td>\n",
       "      <td>3024.90</td>\n",
       "      <td>2220.30</td>\n",
       "      <td>5707953</td>\n",
       "      <td>16480430505.15</td>\n",
       "      <td>174805</td>\n",
       "    </tr>\n",
       "    <tr>\n",
       "      <th>2</th>\n",
       "      <td>22-Mar-2024</td>\n",
       "      <td>EQ</td>\n",
       "      <td>2899.95</td>\n",
       "      <td>2920.00</td>\n",
       "      <td>2894.70</td>\n",
       "      <td>2901.95</td>\n",
       "      <td>2906.55</td>\n",
       "      <td>2910.05</td>\n",
       "      <td>3024.90</td>\n",
       "      <td>2220.30</td>\n",
       "      <td>9763804</td>\n",
       "      <td>28408677998.20</td>\n",
       "      <td>286746</td>\n",
       "    </tr>\n",
       "    <tr>\n",
       "      <th>3</th>\n",
       "      <td>21-Mar-2024</td>\n",
       "      <td>EQ</td>\n",
       "      <td>2905.05</td>\n",
       "      <td>2915.80</td>\n",
       "      <td>2889.35</td>\n",
       "      <td>2887.50</td>\n",
       "      <td>2900.05</td>\n",
       "      <td>2901.95</td>\n",
       "      <td>3024.90</td>\n",
       "      <td>2220.30</td>\n",
       "      <td>6503468</td>\n",
       "      <td>18882974161.40</td>\n",
       "      <td>244846</td>\n",
       "    </tr>\n",
       "    <tr>\n",
       "      <th>4</th>\n",
       "      <td>20-Mar-2024</td>\n",
       "      <td>EQ</td>\n",
       "      <td>2855.90</td>\n",
       "      <td>2890.00</td>\n",
       "      <td>2848.05</td>\n",
       "      <td>2850.50</td>\n",
       "      <td>2886.25</td>\n",
       "      <td>2887.50</td>\n",
       "      <td>3024.90</td>\n",
       "      <td>2220.30</td>\n",
       "      <td>4244403</td>\n",
       "      <td>12200651007.80</td>\n",
       "      <td>208132</td>\n",
       "    </tr>\n",
       "  </tbody>\n",
       "</table>\n",
       "</div>"
      ],
      "text/plain": [
       "          Date series     OPEN     HIGH      LOW PREV. CLOSE      ltp  \\\n",
       "0  27-Mar-2024     EQ  2896.00  3000.00  2894.00     2883.15  2983.75   \n",
       "1  26-Mar-2024     EQ  2890.00  2904.80  2878.00     2910.05  2886.70   \n",
       "2  22-Mar-2024     EQ  2899.95  2920.00  2894.70     2901.95  2906.55   \n",
       "3  21-Mar-2024     EQ  2905.05  2915.80  2889.35     2887.50  2900.05   \n",
       "4  20-Mar-2024     EQ  2855.90  2890.00  2848.05     2850.50  2886.25   \n",
       "\n",
       "     close    52W H    52W L   VOLUME           VALUE No of trades  \n",
       "0  2985.70  3024.90  2220.30  8163322  24262983466.45       299800  \n",
       "1  2883.15  3024.90  2220.30  5707953  16480430505.15       174805  \n",
       "2  2910.05  3024.90  2220.30  9763804  28408677998.20       286746  \n",
       "3  2901.95  3024.90  2220.30  6503468  18882974161.40       244846  \n",
       "4  2887.50  3024.90  2220.30  4244403  12200651007.80       208132  "
      ]
     },
     "execution_count": 12,
     "metadata": {},
     "output_type": "execute_result"
    }
   ],
   "source": [
    "df.head()"
   ]
  },
  {
   "cell_type": "code",
   "execution_count": 13,
   "metadata": {},
   "outputs": [
    {
     "data": {
      "text/plain": [
       "Index(['Date', 'series', 'OPEN', 'HIGH', 'LOW', 'PREV. CLOSE', 'ltp', 'close',\n",
       "       '52W H', '52W L', 'VOLUME', 'VALUE', 'No of trades'],\n",
       "      dtype='object')"
      ]
     },
     "execution_count": 13,
     "metadata": {},
     "output_type": "execute_result"
    }
   ],
   "source": [
    "df.columns"
   ]
  },
  {
   "cell_type": "code",
   "execution_count": 14,
   "metadata": {},
   "outputs": [],
   "source": [
    "X, y = df['Date'], df['close']\n",
    "\n",
    "# Split the dataset into train and test sets\n",
    "X_train, X_test, y_train, y_test = train_test_split(X, y, test_size=0.2, random_state=42)"
   ]
  },
  {
   "cell_type": "code",
   "execution_count": 15,
   "metadata": {},
   "outputs": [
    {
     "name": "stdout",
     "output_type": "stream",
     "text": [
      "67     20-Dec-2023\n",
      "12     07-Mar-2024\n",
      "24     21-Feb-2024\n",
      "45     20-Jan-2024\n",
      "108    20-Oct-2023\n",
      "          ...     \n",
      "106    25-Oct-2023\n",
      "14     05-Mar-2024\n",
      "92     13-Nov-2023\n",
      "51     12-Jan-2024\n",
      "102    31-Oct-2023\n",
      "Name: Date, Length: 100, dtype: object\n"
     ]
    }
   ],
   "source": [
    "print(X_train)"
   ]
  },
  {
   "cell_type": "code",
   "execution_count": 16,
   "metadata": {},
   "outputs": [
    {
     "name": "stdout",
     "output_type": "stream",
     "text": [
      "18     29-Feb-2024\n",
      "42     25-Jan-2024\n",
      "36     05-Feb-2024\n",
      "76     07-Dec-2023\n",
      "53     10-Jan-2024\n",
      "91     15-Nov-2023\n",
      "56     05-Jan-2024\n",
      "123    28-Sep-2023\n",
      "93     12-Nov-2023\n",
      "4      20-Mar-2024\n",
      "27     16-Feb-2024\n",
      "116    10-Oct-2023\n",
      "44     23-Jan-2024\n",
      "96     08-Nov-2023\n",
      "19     28-Feb-2024\n",
      "77     06-Dec-2023\n",
      "10     12-Mar-2024\n",
      "101    01-Nov-2023\n",
      "11     11-Mar-2024\n",
      "114    12-Oct-2023\n",
      "47     18-Jan-2024\n",
      "78     05-Dec-2023\n",
      "0      27-Mar-2024\n",
      "26     19-Feb-2024\n",
      "31     12-Feb-2024\n",
      "Name: Date, dtype: object\n"
     ]
    }
   ],
   "source": [
    "print(X_test)"
   ]
  },
  {
   "cell_type": "code",
   "execution_count": 17,
   "metadata": {},
   "outputs": [],
   "source": [
    "# Convert 'Date' column to datetime\n",
    "df['Date'] = pd.to_datetime(df['Date'])\n",
    "\n",
    "# Extract relevant date features\n",
    "df['Day'] = df['Date'].dt.day\n",
    "df['Month'] = df['Date'].dt.month\n",
    "df['Year'] = df['Date'].dt.year\n",
    "\n",
    "# Drop the original 'Date' column\n",
    "df.drop('Date', axis=1, inplace=True)"
   ]
  },
  {
   "cell_type": "code",
   "execution_count": 18,
   "metadata": {},
   "outputs": [],
   "source": [
    "X = df[['OPEN', 'HIGH', 'LOW', 'PREV. CLOSE', 'ltp','52W H','52W L', 'VOLUME', 'VALUE']]\n",
    "\n",
    "y = df['close']\n",
    "\n",
    "\n",
    "X_train, X_test ,y_train, y_test = train_test_split(X, y,  test_size=0.2, random_state=42)"
   ]
  },
  {
   "cell_type": "code",
   "execution_count": 19,
   "metadata": {},
   "outputs": [
    {
     "name": "stdout",
     "output_type": "stream",
     "text": [
      "Shape of X_train: (100, 9)\n",
      "Shape of y_train: (100,)\n"
     ]
    }
   ],
   "source": [
    "print(\"Shape of X_train:\", X_train.shape)\n",
    "print(\"Shape of y_train:\", y_train.shape)\n"
   ]
  },
  {
   "cell_type": "code",
   "execution_count": 20,
   "metadata": {},
   "outputs": [],
   "source": [
    "\n",
    "\n",
    "# Create a linear regression model\n",
    "model = LinearRegression()\n"
   ]
  },
  {
   "cell_type": "code",
   "execution_count": 21,
   "metadata": {},
   "outputs": [],
   "source": [
    "try:\n",
    "    # Train the model using the training data\n",
    "    model.fit(X_train, y_train)\n",
    "except Exception as e:\n",
    "    print(\"Error occurred during model fitting:\", e)"
   ]
  },
  {
   "cell_type": "code",
   "execution_count": 22,
   "metadata": {},
   "outputs": [
    {
     "name": "stdout",
     "output_type": "stream",
     "text": [
      "[2929.45092141 2712.23529921 2879.08849003 2455.09032563 2657.9805063\n",
      " 2356.85590524 2610.61424576 2336.81940693 2331.1438709  2887.78250633\n",
      " 2924.17228402 2311.6722103  2652.38964246 2334.02723224 2914.11555889\n",
      " 2462.88920076 2956.94971615 2296.2627841  2926.82951394 2348.7373543\n",
      " 2736.65794335 2436.44922773 2987.23849161 2942.02494473 2902.63527564]\n"
     ]
    }
   ],
   "source": [
    "# Make predictions on the test data\n",
    "predictions = model.predict(X_test)\n",
    "\n",
    "print(predictions)"
   ]
  },
  {
   "cell_type": "code",
   "execution_count": 23,
   "metadata": {},
   "outputs": [
    {
     "name": "stdout",
     "output_type": "stream",
     "text": [
      "Mean Squared Error: 14.54431093482756\n"
     ]
    }
   ],
   "source": [
    "# Evaluate the model's performance using mean squared error\n",
    "mse = mean_squared_error(y_test, predictions)\n",
    "print(\"Mean Squared Error:\", mse)"
   ]
  }
 ],
 "metadata": {
  "kernelspec": {
   "display_name": "Python 3",
   "language": "python",
   "name": "python3"
  },
  "language_info": {
   "codemirror_mode": {
    "name": "ipython",
    "version": 3
   },
   "file_extension": ".py",
   "mimetype": "text/x-python",
   "name": "python",
   "nbconvert_exporter": "python",
   "pygments_lexer": "ipython3",
   "version": "3.10.13"
  }
 },
 "nbformat": 4,
 "nbformat_minor": 2
}
