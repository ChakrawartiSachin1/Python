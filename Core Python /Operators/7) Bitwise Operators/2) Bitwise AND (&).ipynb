{
 "cells": [
  {
   "cell_type": "markdown",
   "metadata": {},
   "source": [
    "# Bitwise AND (&):"
   ]
  },
  {
   "cell_type": "markdown",
   "metadata": {},
   "source": [
    "The bitwise `AND` operators (`&`) is used to perform a bitwise AND operations on the individul bits of two integers:"
   ]
  },
  {
   "cell_type": "markdown",
   "metadata": {},
   "source": [
    "`Here's how it works:`\n",
    "\n",
    "let's say we have two integers `a` and `b` , and we want to perform a bitwise AND operation between them:\n",
    "\n",
    "1. Convert `a` and `b` into their binary representations.\n",
    "\n",
    "2. Align the binary representations vertically , padding with zeros if necessaey to make them the same length.\n",
    "\n",
    "3. Perform the AND operation between the corresponding bits at each position.\n",
    "\n",
    "4. Write the result of each AND operation as the corresponding bit in the result."
   ]
  },
  {
   "cell_type": "markdown",
   "metadata": {
    "vscode": {
     "languageId": "raw"
    }
   },
   "source": [
    "A truth table for the bitwise AND operator (`&`) shows the result of applying the operator to all possible combinations of input bits. Here's the truth table for the bitwise AND operator:\n",
    "\n",
    "| A | B | A & B |\n",
    "|---|---|-------|\n",
    "| 0 | 0 |   0   |\n",
    "| 0 | 1 |   0   |\n",
    "| 1 | 0 |   0   |\n",
    "| 1 | 1 |   1   |\n",
    "\n",
    "In this table:\n",
    "\n",
    "- `A` and `B` represent the input bits.\n",
    "- `A & B` represents the result of the bitwise AND operation on `A` and `B`.\n",
    "\n",
    "Explanation:\n",
    "- When both `A` and `B` are `0`, the result of `A & B` is `0`.\n",
    "- When either `A` or `B` is `0` and the other is `1`, the result of `A & B` is `0`.\n",
    "- Only when both `A` and `B` are `1`, the result of `A & B` is `1`.\n",
    "\n",
    "This truth table shows that the bitwise AND operation returns `1` only when both corresponding input bits are `1`, otherwise, it returns `0`."
   ]
  },
  {
   "cell_type": "code",
   "execution_count": 1,
   "metadata": {},
   "outputs": [],
   "source": [
    "# a = 10   # Binary representation: 1010\n",
    "# b = 6    # Binary representation: 0110\n",
    "\n",
    "# Bitwise AND:\n",
    "#      1010    (a)\n",
    "#    & 0110    (b)\n",
    "#    ------\n",
    "#      0010    (result)\n"
   ]
  },
  {
   "cell_type": "markdown",
   "metadata": {},
   "source": [
    "In this example, the binary representation of `a` is 1010 and the binary representation of `b` is 0110. When we perform a bitwise AND operation between a and b, we compare the bits at each position:\n",
    "\n",
    "+ At the first position from the right: 1 & 0 = 0\n",
    "+ At the second position from the right: 0 & 1 = 0\n",
    "+ At the third position from the right: 1 & 1 = 1\n",
    "+ At the fourth position from the right: 0 & 1 = 0\n"
   ]
  },
  {
   "cell_type": "markdown",
   "metadata": {},
   "source": [
    "# Bitwise AND of Two Integers:"
   ]
  },
  {
   "cell_type": "code",
   "execution_count": 2,
   "metadata": {},
   "outputs": [
    {
     "name": "stdout",
     "output_type": "stream",
     "text": [
      "Bitwise AND of  10 and 6  is :  2\n"
     ]
    }
   ],
   "source": [
    "a = 10  # Binary representation: 1010\n",
    "b = 6  # Binary representation:  0110\n",
    "#   1010\n",
    "# & 0110\n",
    "# --------\n",
    "#   0010    (0010 = 2)\n",
    "\n",
    "result = a & b \n",
    "print(\"Bitwise AND of \", a, \"and\" , b, \" is : \", result)  # output 2"
   ]
  }
 ],
 "metadata": {
  "kernelspec": {
   "display_name": "Python 3",
   "language": "python",
   "name": "python3"
  },
  "language_info": {
   "codemirror_mode": {
    "name": "ipython",
    "version": 3
   },
   "file_extension": ".py",
   "mimetype": "text/x-python",
   "name": "python",
   "nbconvert_exporter": "python",
   "pygments_lexer": "ipython3",
   "version": "3.10.13"
  }
 },
 "nbformat": 4,
 "nbformat_minor": 2
}
