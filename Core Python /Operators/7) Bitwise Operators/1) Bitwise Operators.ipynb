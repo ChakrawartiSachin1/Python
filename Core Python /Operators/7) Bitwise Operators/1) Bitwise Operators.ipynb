{
 "cells": [
  {
   "cell_type": "markdown",
   "metadata": {},
   "source": [
    "# Bitwise Operators:"
   ]
  },
  {
   "cell_type": "markdown",
   "metadata": {},
   "source": [
    "Bitwise operators in Python are used to perform operations on individual bits of integers. Here are the bitwise operators in Python:\n",
    "\n",
    "1. **Bitwise AND (&):**\n",
    "   - Sets each bit to 1 if both bits are 1.\n",
    "   - Example: `a & b`\n",
    "\n",
    "2. **Bitwise OR (|):**\n",
    "   - Sets each bit to 1 if either of the bits is 1.\n",
    "   - Example: `a | b`\n",
    "\n",
    "3. **Bitwise XOR (^):**\n",
    "   - Sets each bit to 1 if only one of the two bits is 1.\n",
    "   - Example: `a ^ b`\n",
    "\n",
    "4. **Bitwise NOT (~):**\n",
    "   - Flips all the bits.\n",
    "   - Example: `~a`\n",
    "\n",
    "5. **Left Shift (<<):**\n",
    "   - Shifts the bits of the left operand to the left by the number of positions specified by the right operand.\n",
    "   - Example: `a << b`\n",
    "\n",
    "6. **Right Shift (>>):**\n",
    "   - Shifts the bits of the left operand to the right by the number of positions specified by the right operand.\n",
    "   - Example: `a >> b`\n",
    "\n",
    "These operators are used to manipulate the binary representations of integers. Here's an example demonstrating some bitwise operations:\n"
   ]
  }
 ],
 "metadata": {
  "language_info": {
   "name": "python"
  }
 },
 "nbformat": 4,
 "nbformat_minor": 2
}
