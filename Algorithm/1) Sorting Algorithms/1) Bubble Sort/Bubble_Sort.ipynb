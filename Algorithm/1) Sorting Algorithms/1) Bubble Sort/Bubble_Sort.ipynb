{
 "cells": [
  {
   "cell_type": "markdown",
   "metadata": {},
   "source": [
    "# Bubble Sort"
   ]
  },
  {
   "cell_type": "markdown",
   "metadata": {},
   "source": [
    "Bubble sort is a simple sorting algorithm that repeatedly steps through the list, compares adjacent elements, and swaps them if they are in the worng order. The pass through the list is repeated until the list is sorted. it is named because smaller elements \"bubble\" to the top of the list with each iteration."
   ]
  },
  {
   "cell_type": "markdown",
   "metadata": {},
   "source": [
    "Here's a basic description of the algorithm:\n",
    "\n",
    "1. Start at the beginning of the list.\n",
    "\n",
    "2. Compare the first two elements."
   ]
  }
 ],
 "metadata": {
  "language_info": {
   "name": "python"
  }
 },
 "nbformat": 4,
 "nbformat_minor": 2
}
